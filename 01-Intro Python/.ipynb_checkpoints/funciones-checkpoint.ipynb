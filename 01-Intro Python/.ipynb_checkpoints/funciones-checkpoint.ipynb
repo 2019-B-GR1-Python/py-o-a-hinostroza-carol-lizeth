{
 "cells": [
  {
   "cell_type": "code",
   "execution_count": 3,
   "metadata": {
    "scrolled": true
   },
   "outputs": [
    {
     "ename": "SyntaxError",
     "evalue": "invalid syntax (<ipython-input-3-82e84876fb12>, line 3)",
     "output_type": "error",
     "traceback": [
      "\u001b[1;36m  File \u001b[1;32m\"<ipython-input-3-82e84876fb12>\"\u001b[1;36m, line \u001b[1;32m3\u001b[0m\n\u001b[1;33m    def hola mundo(): #None\u001b[0m\n\u001b[1;37m                 ^\u001b[0m\n\u001b[1;31mSyntaxError\u001b[0m\u001b[1;31m:\u001b[0m invalid syntax\n"
     ]
    }
   ],
   "source": [
    "#Funciones\n",
    "\n",
    "def hola mundo(): #None\n",
    "    print (\"hola mundo\")\n",
    "\n"
   ]
  },
  {
   "cell_type": "code",
   "execution_count": 17,
   "metadata": {},
   "outputs": [
    {
     "name": "stdout",
     "output_type": "stream",
     "text": [
      "suma 3\n"
     ]
    }
   ],
   "source": [
    "def sumar_dos_numeros(num_uno, num_dos): #Argumentos requeridos\n",
    "    return num_uno + num_dos\n",
    "suma = sumar_dos_numeros(1,2)\n",
    "print (f\"suma {suma}\")"
   ]
  },
  {
   "cell_type": "code",
   "execution_count": 2,
   "metadata": {},
   "outputs": [
    {
     "data": {
      "text/plain": [
       "<function __main__.imprimir_universidad(nombre='EPN')>"
      ]
     },
     "execution_count": 2,
     "metadata": {},
     "output_type": "execute_result"
    }
   ],
   "source": [
    "def imprimir_universidad(nombre = 'EPN'): #Argumentos Opcionales\n",
    "    print(f\"nombre {nombre}\")\n",
    "imprimir_universidad \n"
   ]
  },
  {
   "cell_type": "code",
   "execution_count": 6,
   "metadata": {},
   "outputs": [
    {
     "name": "stdout",
     "output_type": "stream",
     "text": [
      "Color: Blanco\n",
      "Placa: abc-123\n",
      "Caballos de fuerza: 20002\n",
      "Año: 1970\n",
      "Color: Amazul\n",
      "Placa: def-456\n",
      "Caballos de fuerza: 3500\n",
      "Año: 2005\n",
      "Color: Cafe\n",
      "Placa: mns-543\n",
      "Caballos de fuerza: 1650\n",
      "Año: 2003\n"
     ]
    }
   ],
   "source": [
    "def imprimir_Carro(color, placa, hp, anio = 1990):\n",
    "    print(f\"Color: {color}\")\n",
    "    print(f\"Placa: {placa}\")\n",
    "    print(f\"Caballos de fuerza: {hp}\")\n",
    "    print(f\"Año: {anio}\")\n",
    "imprimir_Carro(\"Blanco\",\"abc-123\",20002,1970)\n",
    "imprimir_Carro (anio = 2005,\n",
    "                color = \"Amazul\",\n",
    "                placa = \"def-456\",\n",
    "                hp = 3500)\n",
    "#Named Parameters\n",
    "# Positional Parameteres\n",
    "\n",
    "imprimir_Carro(\"Cafe\", \"mns-543\", anio=2003, hp=1650)  \n",
    "\n",
    "#REGLA\n",
    "#1) Primero parámetros requeridos, y luego los opcionales\n",
    "#2) Enviar SIEMPRE los parámetros requeridos\n",
    "#3) Si ya se envía un parámetro nombrado, los parámetros que falten de enviarse van a tener que ser nombrados"
   ]
  },
  {
   "cell_type": "code",
   "execution_count": 8,
   "metadata": {},
   "outputs": [
    {
     "name": "stdout",
     "output_type": "stream",
     "text": [
      "<class 'int'>\n",
      "<class 'tuple'>\n"
     ]
    }
   ],
   "source": [
    "def sumar_numero(primer_numero,\n",
    "                *numeros):  # Param. Infinitos\n",
    "    print(type(primer_numero))\n",
    "    print(type(numeros))\n",
    "sumar_numero(1,2)"
   ]
  }
 ],
 "metadata": {
  "kernelspec": {
   "display_name": "Python 3",
   "language": "python",
   "name": "python3"
  },
  "language_info": {
   "codemirror_mode": {
    "name": "ipython",
    "version": 3
   },
   "file_extension": ".py",
   "mimetype": "text/x-python",
   "name": "python",
   "nbconvert_exporter": "python",
   "pygments_lexer": "ipython3",
   "version": "3.7.4"
  }
 },
 "nbformat": 4,
 "nbformat_minor": 2
}

{
 "cells": [
  {
   "cell_type": "code",
   "execution_count": 10,
   "metadata": {},
   "outputs": [
    {
     "name": "stdout",
     "output_type": "stream",
     "text": [
      "L2: Buenos dÃ­as\n",
      "\n",
      "L2: Hola que hace\n",
      "\n",
      "L3: ajsdÃ±kajslda\n",
      "<class 'list'>\n",
      "[]\n"
     ]
    }
   ],
   "source": [
    "#Archivos\n",
    "try:\n",
    "    path = \"./frases.txt\"\n",
    "    archivo_abierto = open(path)\n",
    "    linea_uno = archivo_abierto.readline()\n",
    "    print(f\"L2: {linea_uno}\")\n",
    "    linea_dos = archivo_abierto.readline()\n",
    "    print(f\"L2: {linea_dos}\")\n",
    "    linea_tres = archivo_abierto.readline()\n",
    "    print(f\"L3: {linea_tres}\")\n",
    "    \n",
    "    contenido = archivo_abierto.readlines()\n",
    "    print(type(contenido))\n",
    "    print(contenido)\n",
    "    for linea in contenido:\n",
    "        print(linea)\n",
    "    archivo_abierto.close()\n",
    "    \n",
    "except Exceptionption as error:\n",
    "    print(\"Error\")"
   ]
  },
  {
   "cell_type": "code",
   "execution_count": 20,
   "metadata": {},
   "outputs": [],
   "source": [
    "try:\n",
    "    path = \"./frases.txt\"\n",
    "    archivo_escritura_abierto = open(path,mode=\"a\")\n",
    "    #a =>Append\n",
    "    #w => Sobre escribir\n",
    "    archivo_escritura_abierto.write(\"Buenas madrugadas\\n\")\n",
    "    archivo_escritura_abierto.write( \"ABC\\n\" )\n",
    "    archivo_escritura_abierto.close()\n",
    "except Exception as error:\n",
    "    print('Error')"
   ]
  },
  {
   "cell_type": "code",
   "execution_count": null,
   "metadata": {},
   "outputs": [],
   "source": []
  },
  {
   "cell_type": "code",
   "execution_count": null,
   "metadata": {},
   "outputs": [],
   "source": []
  }
 ],
 "metadata": {
  "kernelspec": {
   "display_name": "Python 3",
   "language": "python",
   "name": "python3"
  },
  "language_info": {
   "codemirror_mode": {
    "name": "ipython",
    "version": 3
   },
   "file_extension": ".py",
   "mimetype": "text/x-python",
   "name": "python",
   "nbconvert_exporter": "python",
   "pygments_lexer": "ipython3",
   "version": "3.7.4"
  }
 },
 "nbformat": 4,
 "nbformat_minor": 2
}

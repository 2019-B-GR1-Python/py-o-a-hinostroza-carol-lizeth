{
 "cells": [
  {
   "cell_type": "code",
   "execution_count": null,
   "metadata": {},
   "outputs": [],
   "source": [
    "def principal_animes ():\n",
    "    print (\"HOLA , Aquí podrás encontrar y trabajar con información sobre animes, elige una opción\")\n",
    "    print (\"\\t1.-Ingresar Nuevo Anime\")\n",
    "    print (\"\\t2.-Eliminar Anime Existente\")\n",
    "    print (\"\\t3.-Consultar Información del Anime\")\n",
    "    print (\"\\t4.-Modificar Información del Anime\")\n",
    "    print (\"\\t5.-Buscar Anime\")\n",
    "    print (\"\\t6.-Salir\")\n",
    "\n",
    "while True:\n",
    "    principal_animes()\n",
    "      \n",
    "    opciones_menu = input(\"Elija una opción \")\n",
    "            \n",
    "    if opciones_menu==\"1\":\n",
    "        print(\"\\n Ingresar Nuevo Anime\")\n",
    "        ingresar_anime()\n",
    "     \n",
    "    elif opciones_menu==\"2\": \n",
    "        print(\"\\n Eliminar Anime Existente\")\n",
    "        eliminar_anime()\n",
    "        \n",
    "    elif opciones_menu==\"3\":\n",
    "        print(\"\\n Consultar Información del Anime\")\n",
    "        ver_anime()  \n",
    "        \n",
    "    elif opciones_menu==\"4\":\n",
    "        print(\"\\n Modificar Información del Anime\")\n",
    "        modificar_anime()\n",
    "        \n",
    "    elif opciones_menu==\"5\":\n",
    "        print(\"\\n Buscar Anime\")\n",
    "        buscar_anime()\n",
    "   \n",
    "    elif opciones_menu==\"6\":\n",
    "        print(\"\\n Adiós¡ vuelve pronto\")\n",
    "        break\n",
    "        \n",
    "    else:\n",
    "        input(\"Opción no válida¡ \\npulsa una tecla para continuar\")\n",
    "        \n"
   ]
  },
  {
   "cell_type": "code",
   "execution_count": null,
   "metadata": {},
   "outputs": [],
   "source": [
    "def ver_anime():\n",
    "    try:\n",
    "        path='./animes.txt'\n",
    "        info_abrir = open(path)\n",
    "        lineas= info_abrir.readlines()\n",
    "        print(\"\\n Animes Registrados\\n\")\n",
    "        for linea in lineas:\n",
    "            print(f\" {linea}\")\n",
    "        info_abrir.close\n",
    "    except Exception as error:\n",
    "        print(f\"Error en lectura: {error}\")\n",
    "ver_anime()"
   ]
  },
  {
   "cell_type": "code",
   "execution_count": null,
   "metadata": {},
   "outputs": [],
   "source": [
    "def ingresar_anime():\n",
    "    print(\"\\n  Registrar Información del anime nuevo\\n\")\n",
    "    codigo = input(\"  Codigo: \")\n",
    "    nombre = input(\"  Nombre: \")\n",
    "    descripcion = input(\"  Descripcion: \")\n",
    "    temporadas = input(\"  Temporadas: \")\n",
    "\n",
    "    try:\n",
    "        path = \"./animes.txt\"\n",
    "        escritura_abierto = open(path,mode=\"a\") \n",
    "        escritura_abierto.writelines([f\"{codigo}, {nombre},{descripcion}, {temporadas}\\n\"])\n",
    "        escritura_abierto.close()\n",
    "        print(\"\\n Registro de información exitosa \\n\")\n",
    "    except Exception as error:\n",
    "        print(f\"Error en el registro: {error}\")\n",
    "ingresar_anime()"
   ]
  },
  {
   "cell_type": "code",
   "execution_count": null,
   "metadata": {},
   "outputs": [],
   "source": [
    "def modificar_anime():\n",
    "    codigo = input(\"\\n  Ingrese el codigo del anime que desea modificar: \")\n",
    "    try:\n",
    "        path=\"\n",
    "        info_abrir = open(path)\n",
    "        lineas = info_abrir.readlines()\n",
    "        info_abrir.seek(0)\n",
    "        for linea in lineas:\n",
    "            if codigo in linea:\n",
    "                nombre = input(\"  Ingrese el nuevo nombre del anime: \")\n",
    "                anime_modificado = f\"{codigo}  , {nombre}  , {temporadas}\\n\"\n",
    "                info_abrir.write(anime_modificado)\n",
    "                info_abrir.truncate()\n",
    "                print(f\"\\n  Anime {nombre} modificado \\n\")\n",
    "            else:\n",
    "                info_abrir.write(linea)\n",
    "                info_abrir.truncate()\n",
    "    except Exception as error:\n",
    "        print(f\"Error en actualizacion: {error}\")"
   ]
  },
  {
   "cell_type": "code",
   "execution_count": null,
   "metadata": {},
   "outputs": [],
   "source": [
    "def eliminar_anime():\n",
    "    codigo = input(\"\\n  Ingrese el codigo del anime a eliminar: \")\n",
    "    try:\n",
    "        path=\"./animes.txt\"\n",
    "        info_abrir = open(path, mode=\"r+\")\n",
    "        lineas = info_abrir.readlines()\n",
    "        info_abrir.seek(0)\n",
    "        for linea in lineas:\n",
    "            if not codigo in linea:\n",
    "                info_abrir.write(linea)\n",
    "                info_abrir.truncate()\n",
    "        print(f\"\\n Anime Eliminado: {nombre} \\n\")\n",
    "    except Exception as error:\n",
    "        print(f\"Error en actualizacion: {error}\")\n",
    "eliminar_anime()"
   ]
  },
  {
   "cell_type": "code",
   "execution_count": null,
   "metadata": {},
   "outputs": [],
   "source": [
    "def buscar_anime():\n",
    "    codigo = input(\"\\n  Ingrese el codigo del anime \")\n",
    "    try:\n",
    "        path=\"./animes.txt\"\n",
    "        info_abrir = open(path)\n",
    "        lineas = info_abrir.readlines()\n",
    "        for linea in lineas:\n",
    "            if not codigo in linea:\n",
    "                info_abrir.write(linea)\n",
    "                info_abrir.truncate()\n",
    "        print(f\"\\n  Encontrado: {codigo} \\n\")\n",
    "    except Exception as error:\n",
    "        print(f\"Anime no encontrado, verifica el código: {error}\")\n",
    "buscar_anime()"
   ]
  },
  {
   "cell_type": "code",
   "execution_count": null,
   "metadata": {},
   "outputs": [],
   "source": []
  }
 ],
 "metadata": {
  "kernelspec": {
   "display_name": "Python 3",
   "language": "python",
   "name": "python3"
  },
  "language_info": {
   "codemirror_mode": {
    "name": "ipython",
    "version": 3
   },
   "file_extension": ".py",
   "mimetype": "text/x-python",
   "name": "python",
   "nbconvert_exporter": "python",
   "pygments_lexer": "ipython3",
   "version": "3.7.3"
  }
 },
 "nbformat": 4,
 "nbformat_minor": 2
}
